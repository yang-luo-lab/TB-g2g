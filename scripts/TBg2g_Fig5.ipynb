{
 "cells": [
  {
   "cell_type": "code",
   "execution_count": 1,
   "id": "0ff2997b-8b6b-45c8-b60c-81c8703f176b",
   "metadata": {
    "vscode": {
     "languageId": "r"
    }
   },
   "outputs": [
    {
     "name": "stderr",
     "output_type": "stream",
     "text": [
      "\n",
      "Attaching package: 'dplyr'\n",
      "\n",
      "\n",
      "The following objects are masked from 'package:stats':\n",
      "\n",
      "    filter, lag\n",
      "\n",
      "\n",
      "The following objects are masked from 'package:base':\n",
      "\n",
      "    intersect, setdiff, setequal, union\n",
      "\n",
      "\n",
      "Registered S3 methods overwritten by 'treeio':\n",
      "  method              from    \n",
      "  MRCA.phylo          tidytree\n",
      "  MRCA.treedata       tidytree\n",
      "  Nnode.treedata      tidytree\n",
      "  Ntip.treedata       tidytree\n",
      "  ancestor.phylo      tidytree\n",
      "  ancestor.treedata   tidytree\n",
      "  child.phylo         tidytree\n",
      "  child.treedata      tidytree\n",
      "  full_join.phylo     tidytree\n",
      "  full_join.treedata  tidytree\n",
      "  groupClade.phylo    tidytree\n",
      "  groupClade.treedata tidytree\n",
      "  groupOTU.phylo      tidytree\n",
      "  groupOTU.treedata   tidytree\n",
      "  is.rooted.treedata  tidytree\n",
      "  nodeid.phylo        tidytree\n",
      "  nodeid.treedata     tidytree\n",
      "  nodelab.phylo       tidytree\n",
      "  nodelab.treedata    tidytree\n",
      "  offspring.phylo     tidytree\n",
      "  offspring.treedata  tidytree\n",
      "  parent.phylo        tidytree\n",
      "  parent.treedata     tidytree\n",
      "  root.treedata       tidytree\n",
      "  rootnode.phylo      tidytree\n",
      "  sibling.phylo       tidytree\n",
      "\n",
      "\u001b[90mggtree v3.6.2 For help: https://yulab-smu.top/treedata-book/\n",
      "\n",
      "If you use the ggtree package suite in published research, please cite\n",
      "the appropriate paper(s):\n",
      "\n",
      "Guangchuang Yu, David Smith, Huachen Zhu, Yi Guan, Tommy Tsan-Yuk Lam.\n",
      "ggtree: an R package for visualization and annotation of phylogenetic\n",
      "trees with their covariates and other associated data. Methods in\n",
      "Ecology and Evolution. 2017, 8(1):28-36. doi:10.1111/2041-210X.12628\n",
      "\n",
      "G Yu. Data Integration, Manipulation and Visualization of Phylogenetic\n",
      "Trees (1st ed.). Chapman and Hall/CRC. 2022. ISBN: 9781032233574\n",
      "\n",
      "S Xu, Z Dai, P Guo, X Fu, S Liu, L Zhou, W Tang, T Feng, M Chen, L\n",
      "Zhan, T Wu, E Hu, Y Jiang, X Bo, G Yu. ggtreeExtra: Compact\n",
      "visualization of richly annotated phylogenetic data. Molecular Biology\n",
      "and Evolution. 2021, 38(9):4039-4042. doi: 10.1093/molbev/msab166 \u001b[39m\n",
      "\n",
      "\n",
      "Attaching package: 'ggtree'\n",
      "\n",
      "\n",
      "The following object is masked from 'package:tidyr':\n",
      "\n",
      "    expand\n",
      "\n",
      "\n",
      "\n",
      "Attaching package: 'ape'\n",
      "\n",
      "\n",
      "The following object is masked from 'package:ggtree':\n",
      "\n",
      "    rotate\n",
      "\n",
      "\n",
      "The following object is masked from 'package:dplyr':\n",
      "\n",
      "    where\n",
      "\n",
      "\n",
      "Registering fonts with R\n",
      "\n"
     ]
    }
   ],
   "source": [
    "library(ggplot2)\n",
    "library(tidyr)\n",
    "library(dplyr)\n",
    "library(scales)\n",
    "library(RColorBrewer)\n",
    "library(ggtree)\n",
    "library(ape)\n",
    "library(cowplot)\n",
    "library(grid)\n",
    "library(extrafont)"
   ]
  },
  {
   "cell_type": "code",
   "execution_count": 2,
   "id": "029f1c60-7503-4825-84f5-0da69e6dac8a",
   "metadata": {
    "vscode": {
     "languageId": "r"
    }
   },
   "outputs": [],
   "source": [
    "theme_set(theme_classic() + theme(text = element_text(size=20, family = \"Arial\")))\n",
    "options(StringsAsFactors=FALSE)\n",
    "clade_colors <- c(\"#E64B35FF\",\"#4DBBD5FF\",\"#00A087FF\")\n"
   ]
  },
  {
   "cell_type": "markdown",
   "id": "3dc9a2f3-9aba-4098-8c86-70c61b0f1284",
   "metadata": {},
   "source": [
    "# Fig5a Phylogeny of L2 lineage"
   ]
  },
  {
   "cell_type": "code",
   "execution_count": 3,
   "id": "dd2dd03a-86ad-4f21-b003-90a55f91f316",
   "metadata": {
    "vscode": {
     "languageId": "r"
    }
   },
   "outputs": [],
   "source": [
    "## Read in tree \n",
    "filename <- \"../data/Peru_255_ML.tre\"\n",
    "L2tree <- ape::read.nexus(filename)\n",
    "#L2tree\n",
    "p <- ggtree(L2tree)\n",
    "\n",
    "# determing clade to manipulate for visualization\n",
    "edge <- data.frame(L2tree$edge, edge_num=1:nrow(L2tree$edge))\n",
    "colnames(edge) <- c(\"parent\", \"node\", \"edge_num\")\n"
   ]
  },
  {
   "cell_type": "code",
   "execution_count": 6,
   "id": "3fe7de2a-d542-41e5-871a-bc044e122862",
   "metadata": {
    "vscode": {
     "languageId": "r"
    }
   },
   "outputs": [],
   "source": [
    "options(repr.plot.width=9, repr.plot.height=24)\n",
    "\n",
    "# this is an optional step, but tidytree package needs to be reload if the \"flip\" function gives out error \"could not find function \"offspring.tbl_tree_item\"\n",
    "nodeid.tbl_tree <- utils::getFromNamespace(\"nodeid.tbl_tree\", \"tidytree\")\n",
    "rootnode.tbl_tree <- utils::getFromNamespace(\"rootnode.tbl_tree\", \"tidytree\")\n",
    "offspring.tbl_tree <- utils::getFromNamespace(\"offspring.tbl_tree\", \"tidytree\")\n",
    "offspring.tbl_tree_item <- utils::getFromNamespace(\".offspring.tbl_tree_item\", \"tidytree\")\n",
    "child.tbl_tree <- utils::getFromNamespace(\"child.tbl_tree\", \"tidytree\")\n",
    "parent.tbl_tree <- utils::getFromNamespace(\"parent.tbl_tree\", \"tidytree\")\n",
    "\n",
    "tree2 <- groupClade(L2tree, c(361,273,318))\n",
    "\n",
    "# Draw initial tree\n",
    "p <- ggtree(tree2, aes(color=group),size=2) + \n",
    "  scale_color_manual(values=c(\"black\", clade_colors))\n",
    "\n",
    "pTree <- p + geom_point2(aes(subset=node %in% c(361,273,318)), fill=clade_colors[c(2,3,1)], \n",
    "                         size=5,shape=23) + theme(legend.position=\"none\")\n",
    "\n",
    "# flip g2g and other L2 clade\n",
    "pTree <- ggtree::rotate(pTree,256)\n",
    "\n",
    "## adding clade labels\n",
    "pTree <- pTree + geom_cladelab(node=361, label=\"g2g-L2 (clade-A)\",\n",
    "                      textcolor=clade_colors[1],barcolor=clade_colors[1],\n",
    "                     align=TRUE,barsize=1.2,fontsize=10,angle=270,offset.text=.005,hjust=.6) \n",
    "\n",
    "pTree <- pTree + geom_cladelab(node=273, label=\"clade-B\",\n",
    "                      textcolor=clade_colors[2],barcolor=clade_colors[2],\n",
    "                     align=TRUE,barsize=1.2,fontsize=10,angle=270,offset.text=.005,hjust=.5) \n",
    "\n",
    "pTree <- pTree + geom_cladelab(node=318, label=\"clade-C\",\n",
    "                      textcolor=clade_colors[3],barcolor=clade_colors[3],\n",
    "                     align=TRUE,barsize=1.2,fontsize=10,angle=270,offset.text=.005,hjust=.5) \n",
    "\n",
    "ggsave(\"../figures/Fig5a_L2_tree.png\",width=5,height=12,dpi=500)\n"
   ]
  },
  {
   "cell_type": "markdown",
   "id": "dd5f65c5-c16a-4ee4-90d3-c61a29ef07c6",
   "metadata": {},
   "source": [
    "# Fig5b Minimum SNP distance "
   ]
  },
  {
   "cell_type": "code",
   "execution_count": 8,
   "id": "88e554e4-d0cb-49fe-a0ac-874243c69209",
   "metadata": {
    "vscode": {
     "languageId": "r"
    }
   },
   "outputs": [
    {
     "data": {
      "text/plain": [
       "\n",
       "   clade-B    clade-C     g2g-L2 \n",
       "0.18039216 0.06666667 0.58823529 "
      ]
     },
     "metadata": {},
     "output_type": "display_data"
    },
    {
     "data": {
      "text/html": [
       "256"
      ],
      "text/latex": [
       "256"
      ],
      "text/markdown": [
       "256"
      ],
      "text/plain": [
       "[1] 256"
      ]
     },
     "metadata": {},
     "output_type": "display_data"
    },
    {
     "data": {
      "text/html": [
       "1"
      ],
      "text/latex": [
       "1"
      ],
      "text/markdown": [
       "1"
      ],
      "text/plain": [
       "[1] 1"
      ]
     },
     "metadata": {},
     "output_type": "display_data"
    },
    {
     "data": {
      "text/html": [
       "8"
      ],
      "text/latex": [
       "8"
      ],
      "text/markdown": [
       "8"
      ],
      "text/plain": [
       "[1] 8"
      ]
     },
     "metadata": {},
     "output_type": "display_data"
    },
    {
     "data": {
      "text/html": [
       "18"
      ],
      "text/latex": [
       "18"
      ],
      "text/markdown": [
       "18"
      ],
      "text/plain": [
       "[1] 18"
      ]
     },
     "metadata": {},
     "output_type": "display_data"
    },
    {
     "name": "stderr",
     "output_type": "stream",
     "text": [
      "Warning message in ks.test.default(x, y, exact = FALSE, alternative = \"greater\", :\n",
      "\"Parameter(s) log.p ignored\"\n",
      "Warning message in ks.test.default(x, y, exact = FALSE, alternative = \"greater\", :\n",
      "\"p-value will be approximate in the presence of ties\"\n"
     ]
    },
    {
     "data": {
      "text/html": [
       "6.85007606193722e-13"
      ],
      "text/latex": [
       "6.85007606193722e-13"
      ],
      "text/markdown": [
       "6.85007606193722e-13"
      ],
      "text/plain": [
       "[1] 6.850076e-13"
      ]
     },
     "metadata": {},
     "output_type": "display_data"
    }
   ],
   "source": [
    "n <- length(L2tree$tip.label)\n",
    "\n",
    "clade <- read.table(\"../data/L2tree_clade_info.txt\",h=F,stringsAsFactors = F)\n",
    "\n",
    "table(clade$V2)/n\n",
    "\n",
    "\n",
    "l2distance <- read.table(\"../data/L2_min_distance.txt\",h=F)\n",
    "names(l2distance) <- c(\"sampleID\",\"dis\")\n",
    "\n",
    "l2distance$sub <- \"others\"\n",
    "l2distance$sub <- ifelse(l2distance$sampleID %in% clade[clade$V2==\"g2g-L2\",1],\"Clade-A\",l2distance$sub )\n",
    "l2distance$sub <- ifelse(l2distance$sampleID %in% clade[clade$V2==\"clade-B\",1],\"Clade-B\",l2distance$sub )\n",
    "l2distance$sub <- ifelse(l2distance$sampleID %in% clade[clade$V2==\"clade-C\",1],\"Clade-C\",l2distance$sub )\n",
    "sum(table(l2distance$sub))\n",
    "\n",
    "median(l2distance[l2distance$sub==\"Clade-A\",\"dis\"])\n",
    "median(l2distance[l2distance$sub==\"Clade-B\",\"dis\"])\n",
    "median(l2distance[l2distance$sub==\"Clade-C\",\"dis\"])\n",
    "x<- l2distance[l2distance$sub==\"Clade-A\",\"dis\"]\n",
    "y <- l2distance[l2distance$sub==\"Clade-B\",\"dis\"]\n",
    "ks <- ks.test(x,y,\n",
    "             exact=FALSE,alternative=\"greater\",log.p=TRUE)\n",
    "\n",
    "(ks$p.value)"
   ]
  },
  {
   "cell_type": "code",
   "execution_count": 13,
   "id": "739f83c2-4846-4ad0-84c0-8201987ee7b6",
   "metadata": {
    "vscode": {
     "languageId": "r"
    }
   },
   "outputs": [],
   "source": [
    "options(repr.plot.width=7, repr.plot.height=6)\n",
    "\n",
    "disPlt <- ggplot(l2distance %>% filter(sub!=\"others\"),aes(x=dis,fill=sub)) + geom_density(alpha=.5) +\n",
    "ylab(\"Proportion of strains\") + xlab(\"Minimum SNP distance to closest neighbors\") \n",
    "disPlt <- disPlt + scale_fill_manual(values=clade_colors,name=\"\")\n",
    "\n",
    "grob <- grobTree(textGrob(paste(\"P = \",signif(ks$p.value,digits=3)), x=0.2,  y=0.9, hjust=0,\n",
    "  gp=gpar(col=\"black\", fontsize=20)))\n",
    "\n",
    "ggsave(\"../figures//Fig5b_min_SNP.png\",width=6.5,height=5,dpi=300)\n",
    "\n",
    "\n"
   ]
  },
  {
   "cell_type": "markdown",
   "id": "65daf33e-ad2d-4672-b095-319be1622ecb",
   "metadata": {},
   "source": [
    "# L2 transmission cluster rate"
   ]
  },
  {
   "cell_type": "code",
   "execution_count": 14,
   "id": "ae2112bd-0d76-4f6f-b74e-a3f46adb3dbc",
   "metadata": {
    "vscode": {
     "languageId": "r"
    }
   },
   "outputs": [],
   "source": [
    "l2cluster <- read.table(\"../data/L2_cluster_rate.txt\",h=T,stringsAsFactors = F)"
   ]
  },
  {
   "cell_type": "code",
   "execution_count": 16,
   "id": "d1f6b6a0-661e-4d58-a997-74692fbff61d",
   "metadata": {
    "vscode": {
     "languageId": "r"
    }
   },
   "outputs": [],
   "source": [
    "pcluster <- l2cluster %>% filter(group!=\"others\") %>%\n",
    "  mutate(type = factor(type, levels=c(\"6-SNP\", \"12-SNP\"))) %>%\n",
    "ggplot(aes(y=rate,x=type,fill=group)) + \n",
    "geom_bar(stat = \"identity\", position=position_dodge())\n",
    "\n",
    "pcluster <- pcluster + scale_fill_manual(values=clade_colors,name=\"Clade\")+ \n",
    "ylab(\"Cluster rate\") +xlab(\"\") + theme(legend.position=\"none\",\n",
    "                                      text = element_text(size=20))\n",
    "\n",
    "ggsave(\"../figures//Fig5c_cluster_rate.png\",width=6.5,height=5,dpi=300)"
   ]
  },
  {
   "cell_type": "markdown",
   "id": "13a39fb8-a27b-4245-98c6-09d9e0d82e28",
   "metadata": {},
   "source": [
    "# Fig5d Percentage of g2g Strains between 2010 and 2020 against all"
   ]
  },
  {
   "cell_type": "code",
   "execution_count": 27,
   "id": "8f44ca5e-a5a2-475f-bf19-927570332b1c",
   "metadata": {
    "vscode": {
     "languageId": "r"
    }
   },
   "outputs": [],
   "source": [
    "# create contigency table based on observed numbers\n",
    "a<- 88\n",
    "b <- 102\n",
    "c <- 611\n",
    "d <- 1464\n",
    "contingency_table <- matrix(c(a,b,c,d), nrow = 2, byrow = TRUE)\n",
    "\n",
    "rownames(contingency_table) <- c(\"g2g-L2\", \"non-g2g\")\n",
    "colnames(contingency_table) <- c(\"2020\", \"2010\")\n",
    "\n",
    "# Perform chi-square test\n",
    "fisher_result <- fisher.test(contingency_table)\n",
    "\n",
    "# Convert to data frame\n",
    "df <- as.data.frame(as.table(contingency_table))\n",
    "colnames(df) <- c(\"Group\", \"Year\", \"Count\")\n",
    "\n",
    "\n",
    "# Calculate the percentage within each year\n",
    "df <- df %>%\n",
    "  group_by(Year) %>%\n",
    "  mutate(Percentage = Count / sum(Count) * 100) %>%\n",
    "  ungroup()\n"
   ]
  },
  {
   "cell_type": "code",
   "execution_count": 26,
   "id": "27fc8807-1d0b-4217-be84-156ba6a2541d",
   "metadata": {
    "vscode": {
     "languageId": "r"
    }
   },
   "outputs": [
    {
     "name": "stderr",
     "output_type": "stream",
     "text": [
      "\u001b[1m\u001b[22mScale for \u001b[32my\u001b[39m is already present.\n",
      "Adding another scale for \u001b[32my\u001b[39m, which will replace the existing scale.\n",
      "Warning message in grid.Call(C_textBounds, as.graphicsAnnot(x$label), x$x, x$y, :\n",
      "\"font family 'Arial' not found in PostScript font database\"\n",
      "Warning message in grid.Call(C_textBounds, as.graphicsAnnot(x$label), x$x, x$y, :\n",
      "\"font family 'Arial' not found in PostScript font database\"\n",
      "Warning message in grid.Call(C_textBounds, as.graphicsAnnot(x$label), x$x, x$y, :\n",
      "\"font family 'Arial' not found in PostScript font database\"\n",
      "Warning message in grid.Call(C_textBounds, as.graphicsAnnot(x$label), x$x, x$y, :\n",
      "\"font family 'Arial' not found in PostScript font database\"\n",
      "Warning message in grid.Call(C_textBounds, as.graphicsAnnot(x$label), x$x, x$y, :\n",
      "\"font family 'Arial' not found in PostScript font database\"\n",
      "Warning message in grid.Call(C_textBounds, as.graphicsAnnot(x$label), x$x, x$y, :\n",
      "\"font family 'Arial' not found in PostScript font database\"\n",
      "Warning message in grid.Call(C_textBounds, as.graphicsAnnot(x$label), x$x, x$y, :\n",
      "\"font family 'Arial' not found in PostScript font database\"\n",
      "Warning message in grid.Call(C_textBounds, as.graphicsAnnot(x$label), x$x, x$y, :\n",
      "\"font family 'Arial' not found in PostScript font database\"\n",
      "Warning message in grid.Call(C_textBounds, as.graphicsAnnot(x$label), x$x, x$y, :\n",
      "\"font family 'Arial' not found in PostScript font database\"\n",
      "Warning message in grid.Call(C_textBounds, as.graphicsAnnot(x$label), x$x, x$y, :\n",
      "\"font family 'Arial' not found in PostScript font database\"\n",
      "Warning message in grid.Call.graphics(C_text, as.graphicsAnnot(x$label), x$x, x$y, :\n",
      "\"font family 'Arial' not found in PostScript font database\"\n",
      "Warning message in grid.Call.graphics(C_text, as.graphicsAnnot(x$label), x$x, x$y, :\n",
      "\"font family 'Arial' not found in PostScript font database\"\n",
      "Warning message in grid.Call.graphics(C_text, as.graphicsAnnot(x$label), x$x, x$y, :\n",
      "\"font family 'Arial' not found in PostScript font database\"\n",
      "Warning message in grid.Call.graphics(C_text, as.graphicsAnnot(x$label), x$x, x$y, :\n",
      "\"font family 'Arial' not found in PostScript font database\"\n",
      "Warning message in grid.Call.graphics(C_text, as.graphicsAnnot(x$label), x$x, x$y, :\n",
      "\"font family 'Arial' not found in PostScript font database\"\n",
      "Warning message in grid.Call.graphics(C_text, as.graphicsAnnot(x$label), x$x, x$y, :\n",
      "\"font family 'Arial' not found in PostScript font database\"\n",
      "Warning message in grid.Call.graphics(C_text, as.graphicsAnnot(x$label), x$x, x$y, :\n",
      "\"font family 'Arial' not found in PostScript font database\"\n",
      "Warning message in grid.Call.graphics(C_text, as.graphicsAnnot(x$label), x$x, x$y, :\n",
      "\"font family 'Arial' not found in PostScript font database\"\n",
      "Warning message in grid.Call.graphics(C_text, as.graphicsAnnot(x$label), x$x, x$y, :\n",
      "\"font family 'Arial' not found in PostScript font database\"\n",
      "Warning message in grid.Call.graphics(C_text, as.graphicsAnnot(x$label), x$x, x$y, :\n",
      "\"font family 'Arial' not found in PostScript font database\"\n"
     ]
    },
    {
     "data": {
      "image/png": "[encoded data removed]",
      "text/plain": [
       "plot without title"
      ]
     },
     "metadata": {
      "image/png": {
       "height": 420,
       "width": 420
      }
     },
     "output_type": "display_data"
    }
   ],
   "source": [
    "# Plot the data\n",
    "df$Year <- factor(df$Year,levels=c(\"2010\",\"2020\"))\n",
    "ggplot(df %>% filter(Group==\"g2g-L2\"), aes(x = Year, y = Percentage),color=\"red\") +\n",
    "  geom_bar(stat = \"identity\", position = \"dodge\") +\n",
    "  labs(\n",
    "       x = \"\",\n",
    "       y = \"Proportion of genotypes\") +\n",
    "  scale_y_continuous(labels = scales::percent_format(scale = 1)) +\n",
    "  ylim(0,20)\n"
   ]
  },
  {
   "cell_type": "code",
   "execution_count": null,
   "id": "3f6254a8",
   "metadata": {
    "vscode": {
     "languageId": "r"
    }
   },
   "outputs": [],
   "source": []
  }
 ],
 "metadata": {
  "kernelspec": {
   "display_name": "R",
   "language": "R",
   "name": "ir"
  },
  "language_info": {
   "codemirror_mode": "r",
   "file_extension": ".r",
   "mimetype": "text/x-r-source",
   "name": "R",
   "pygments_lexer": "r",
   "version": "4.2.3"
  }
 },
 "nbformat": 4,
 "nbformat_minor": 5
}
